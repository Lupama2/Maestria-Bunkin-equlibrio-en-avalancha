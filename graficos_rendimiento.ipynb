{
 "cells": [
  {
   "attachments": {},
   "cell_type": "markdown",
   "metadata": {},
   "source": [
    "# Gráficos\n",
    "del rendimiento del sistema. Estos son útiles para comparar tiempos de ejecución entre programas de distinto lenguaje y grado de paralelización"
   ]
  },
  {
   "cell_type": "code",
   "execution_count": null,
   "metadata": {},
   "outputs": [],
   "source": [
    "#Cargo librerías\n",
    "import numpy as np\n",
    "import matplitlib.pyplot as plt\n",
    "\n",
    "#Agrego interactividad a los gráficos\n",
    "%matplotlib ipympl"
   ]
  },
  {
   "cell_type": "code",
   "execution_count": null,
   "metadata": {},
   "outputs": [],
   "source": [
    "#Cargo datos. Hay M archivos, cada uno de los cuales tiene 1 columna de tiempo que tarda en realizarse cada paso de tiempo en un N particular. Cargo los archivos y los junto en uno solo\n",
    "N_vec = np.array([1, 1e1, 2e1, 5e1, 1e2, 5e2, 1e3, 2e3, 5e3, 1e4, 2e4, 5e4])\n",
    "\n",
    "\n"
   ]
  },
  {
   "cell_type": "code",
   "execution_count": null,
   "metadata": {},
   "outputs": [],
   "source": [
    "#Calculo para cada N un promedio y dsv de los datos sin considerar el primer dato de \"precalentamiento\""
   ]
  },
  {
   "cell_type": "code",
   "execution_count": null,
   "metadata": {},
   "outputs": [],
   "source": [
    "#Grafico"
   ]
  }
 ],
 "metadata": {
  "language_info": {
   "name": "python"
  },
  "orig_nbformat": 4
 },
 "nbformat": 4,
 "nbformat_minor": 2
}
