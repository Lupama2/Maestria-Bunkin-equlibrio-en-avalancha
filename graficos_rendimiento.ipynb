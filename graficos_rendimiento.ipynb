{
 "cells": [
  {
   "attachments": {},
   "cell_type": "markdown",
   "metadata": {},
   "source": [
    "# Gráficos\n",
    "del rendimiento del sistema. Estos son útiles para comparar tiempos de ejecución entre programas de distinto lenguaje y grado de paralelización"
   ]
  },
  {
   "cell_type": "code",
   "execution_count": 3,
   "metadata": {},
   "outputs": [],
   "source": [
    "#Cargo librerías\n",
    "import numpy as np\n",
    "import matplotlib.pyplot as plt\n",
    "\n",
    "#Agrego interactividad a los gráficos\n",
    "%matplotlib ipympl"
   ]
  },
  {
   "cell_type": "code",
   "execution_count": 5,
   "metadata": {},
   "outputs": [
    {
     "ename": "ValueError",
     "evalue": "Cannot load file containing pickled data when allow_pickle=False",
     "output_type": "error",
     "traceback": [
      "\u001b[1;31m---------------------------------------------------------------------------\u001b[0m",
      "\u001b[1;31mValueError\u001b[0m                                Traceback (most recent call last)",
      "Cell \u001b[1;32mIn[5], line 5\u001b[0m\n\u001b[0;32m      3\u001b[0m \u001b[39m# \"py_gpu_t_computo.txt\"\u001b[39;00m\n\u001b[0;32m      4\u001b[0m i \u001b[39m=\u001b[39m \u001b[39m0\u001b[39m\n\u001b[1;32m----> 5\u001b[0m datos \u001b[39m=\u001b[39m np\u001b[39m.\u001b[39mload(\u001b[39m\"\u001b[39m\u001b[39mresultados/\u001b[39m\u001b[39m\"\u001b[39m \u001b[39m+\u001b[39m name_files[i])\n",
      "File \u001b[1;32mc:\\ProgramData\\Anaconda3\\envs\\Maestria3\\Lib\\site-packages\\numpy\\lib\\npyio.py:438\u001b[0m, in \u001b[0;36mload\u001b[1;34m(file, mmap_mode, allow_pickle, fix_imports, encoding, max_header_size)\u001b[0m\n\u001b[0;32m    435\u001b[0m \u001b[39melse\u001b[39;00m:\n\u001b[0;32m    436\u001b[0m     \u001b[39m# Try a pickle\u001b[39;00m\n\u001b[0;32m    437\u001b[0m     \u001b[39mif\u001b[39;00m \u001b[39mnot\u001b[39;00m allow_pickle:\n\u001b[1;32m--> 438\u001b[0m         \u001b[39mraise\u001b[39;00m \u001b[39mValueError\u001b[39;00m(\u001b[39m\"\u001b[39m\u001b[39mCannot load file containing pickled data \u001b[39m\u001b[39m\"\u001b[39m\n\u001b[0;32m    439\u001b[0m                          \u001b[39m\"\u001b[39m\u001b[39mwhen allow_pickle=False\u001b[39m\u001b[39m\"\u001b[39m)\n\u001b[0;32m    440\u001b[0m     \u001b[39mtry\u001b[39;00m:\n\u001b[0;32m    441\u001b[0m         \u001b[39mreturn\u001b[39;00m pickle\u001b[39m.\u001b[39mload(fid, \u001b[39m*\u001b[39m\u001b[39m*\u001b[39mpickle_kwargs)\n",
      "\u001b[1;31mValueError\u001b[0m: Cannot load file containing pickled data when allow_pickle=False"
     ]
    }
   ],
   "source": [
    "#Cargo datos.\n",
    "name_files = [\"py_cpu_t_computo.txt\", \"cpp_cpu_t_computo.txt\", \"cpp_gpu_v1_t_computo.txt\", \"cpp_gpu_v2_t_computo.txt\"]\n",
    "# \"py_gpu_t_computo.txt\"\n",
    "i = 0\n",
    "datos = np.load(\"resultados/\" + name_files[i])\n",
    "# [py_cpu, cpp_cpu, cpp_gpu_v1, cpp_gpu_v2] = [np.loadtxt(\"resultados/\" + name_files[i]) for i in range(len(name_files))]\n",
    "\n",
    "#Cargo datos\n"
   ]
  },
  {
   "cell_type": "code",
   "execution_count": null,
   "metadata": {},
   "outputs": [],
   "source": [
    "#Calculo para cada N un promedio y dsv de los datos sin considerar el primer dato de \"precalentamiento\""
   ]
  },
  {
   "cell_type": "code",
   "execution_count": null,
   "metadata": {},
   "outputs": [],
   "source": [
    "#Grafico"
   ]
  }
 ],
 "metadata": {
  "kernelspec": {
   "display_name": "Maestria3",
   "language": "python",
   "name": "python3"
  },
  "language_info": {
   "codemirror_mode": {
    "name": "ipython",
    "version": 3
   },
   "file_extension": ".py",
   "mimetype": "text/x-python",
   "name": "python",
   "nbconvert_exporter": "python",
   "pygments_lexer": "ipython3",
   "version": "3.11.3"
  },
  "orig_nbformat": 4
 },
 "nbformat": 4,
 "nbformat_minor": 2
}
